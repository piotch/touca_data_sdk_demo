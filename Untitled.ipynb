{
 "cells": [
  {
   "cell_type": "code",
   "execution_count": 1,
   "metadata": {},
   "outputs": [
    {
     "name": "stdout",
     "output_type": "stream",
     "text": [
      "········\n"
     ]
    }
   ],
   "source": [
    "import getpass\n",
    "from requests.auth import HTTPBasicAuth\n",
    "from toucan_client import ToucanClient\n",
    "from toucan_data_sdk import ToucanDataSdk\n",
    "from toucan_data_sdk.utils import add_missing_row\n",
    "\n",
    "instance_url = 'https://api-demo.toucantoco.com/demo'\n",
    "username = 'pierre'\n",
    "\n",
    "auth = HTTPBasicAuth(username, getpass.getpass())\n",
    "client = ToucanClient(instance_url, auth=auth)\n",
    "client.stage = 'staging'\n",
    "sdk = ToucanDataSdk(client)   # instantiate client\n",
    "dfs = sdk.dfs                 # get DataFrames"
   ]
  },
  {
   "cell_type": "code",
   "execution_count": 2,
   "metadata": {},
   "outputs": [
    {
     "data": {
      "text/plain": [
       "dict_keys(['market-breakdown', 'dashboards', 'gsheets', 'ranks', 'lines1', 'lines2', 'dynamic_barlinechart', 'funnelchart', 'free_text_home', 'free_pdf_home', 'scorecard_home', 'bubble_bissector', 'heatmap_home', 'leaderboard_centered_avg', 'leaderboard_centered_avg_avg', 'leaderboard_centered_avg_long_labels', 'slave_heatmap', 'heatmap', 'books', '0_36200', '0_36202', '0_37100', '0_37101', '0_32106', '0_32101', '0_30201', '0_30202', '0_30203', '0_32205_0', '0_32205_1', '0_32206_0', '0_32206_1', '0_32104', '0_32105', '0_32107', '0_30204', '0_32100', '0_32102', '0_34201', '0_34204', '0_34200', 'treemap', '0_37102', '0_30205', '0_40206', '0_201_1', '0_201_1_avg', 'timeline', 'horizontal_barchart_groups', 'horizontal_barchart_evolution', 'horizontal_barchart_evolution_avg', 'horizontal_barchart_sparklines', 'horizontal_barchart_legacy_sparklines', 'waterfall_new', 'waterfall_new_categorized', 'cities_data', 'france_regions', 'barlines_bars', 'barlines_lines', 'barlines_bars_filter', '0_413001', 'radarchart', 'tablechart', '0_40705'])"
      ]
     },
     "execution_count": 2,
     "metadata": {},
     "output_type": "execute_result"
    }
   ],
   "source": [
    "dfs.keys()"
   ]
  },
  {
   "cell_type": "code",
   "execution_count": 9,
   "metadata": {},
   "outputs": [
    {
     "data": {
      "text/plain": [
       "(14, 8)"
      ]
     },
     "execution_count": 9,
     "metadata": {},
     "output_type": "execute_result"
    }
   ],
   "source": [
    "dfs['tablechart'].shape"
   ]
  },
  {
   "cell_type": "code",
   "execution_count": 13,
   "metadata": {},
   "outputs": [
    {
     "data": {
      "text/plain": [
       "array(['alpha', 'beta', 'gamma'], dtype=object)"
      ]
     },
     "execution_count": 13,
     "metadata": {},
     "output_type": "execute_result"
    }
   ],
   "source": []
  },
  {
   "cell_type": "code",
   "execution_count": null,
   "metadata": {},
   "outputs": [],
   "source": []
  }
 ],
 "metadata": {
  "kernelspec": {
   "display_name": "Python 3",
   "language": "python",
   "name": "python3"
  },
  "language_info": {
   "codemirror_mode": {
    "name": "ipython",
    "version": 3
   },
   "file_extension": ".py",
   "mimetype": "text/x-python",
   "name": "python",
   "nbconvert_exporter": "python",
   "pygments_lexer": "ipython3",
   "version": "3.6.1"
  }
 },
 "nbformat": 4,
 "nbformat_minor": 2
}
